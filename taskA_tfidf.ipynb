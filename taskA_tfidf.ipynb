{
  "nbformat": 4,
  "nbformat_minor": 0,
  "metadata": {
    "colab": {
      "name": "taskA_tfidf.ipynb",
      "provenance": [],
      "collapsed_sections": []
    },
    "kernelspec": {
      "name": "python3",
      "display_name": "Python 3"
    },
    "language_info": {
      "name": "python"
    }
  },
  "cells": [
    {
      "cell_type": "code",
      "execution_count": 1,
      "metadata": {
        "id": "7Z3Thmt8iYqL"
      },
      "outputs": [],
      "source": [
        "# this file is for model training and testing\n",
        "# use tf-idf to convert text.\n",
        "# use Random Forest, SVM and Logistic Regression to train the model and test.\n",
        "\n",
        "# import\n",
        "import re\n",
        "import pandas as pd \n",
        "import numpy as np \n",
        "import matplotlib.pyplot as plt \n",
        "import seaborn as sns\n",
        "import string\n",
        "import nltk\n",
        "from wordcloud import WordCloud\n",
        "\n",
        "from sklearn.linear_model import LogisticRegression\n",
        "from sklearn.model_selection import train_test_split\n",
        "from sklearn.metrics import f1_score\n",
        "from sklearn.metrics import classification_report\n",
        "from sklearn.feature_extraction.text import TfidfVectorizer\n",
        "from sklearn.feature_extraction.text import TfidfTransformer\n",
        "from sklearn.feature_extraction.text import CountVectorizer\n",
        "from scipy.sparse import coo_matrix\n",
        "\n",
        "from sklearn.metrics import classification_report\n",
        "from sklearn.linear_model import LogisticRegression\n",
        "from sklearn.ensemble import RandomForestClassifier\n",
        "from sklearn.tree import DecisionTreeClassifier\n",
        "from sklearn import svm\n",
        "from sklearn import neighbors\n",
        "from sklearn.naive_bayes import MultinomialNB"
      ]
    },
    {
      "cell_type": "code",
      "source": [
        "df = pd.read_csv('twitterA_train_data.txt', sep=\"\\t\",names=['Number','Label','Text'])\n",
        "df\n",
        "df[\"tidy\"] = df[\"Text\"]"
      ],
      "metadata": {
        "id": "-aTAfpD_ihTC"
      },
      "execution_count": 4,
      "outputs": []
    },
    {
      "cell_type": "code",
      "source": [
        "def tf_idf(contents):\n",
        "  # word-> matrix: a[i][j] is word frequency of j under text i\n",
        "  vectorizer = CountVectorizer()\n",
        "\n",
        "  # Count tf-idf weights for each word\n",
        "  transformer = TfidfTransformer()\n",
        "\n",
        "  #fit_transform: tf-idf \n",
        "  tfidf = transformer.fit_transform(vectorizer.fit_transform(contents)) # fit_transform: convert text into word-frequency matrix\n",
        "\n",
        "\n",
        "  # Get all phrases in bag-of-words model \n",
        "  word = vectorizer.get_feature_names()\n",
        "  print(\"Length of words:\", len(word))\n",
        "\n",
        "  #将tf-idf矩阵抽取出来，元素w[i][j]表示j词在i类文本中的tf-idf权重\n",
        "  X = coo_matrix(tfidf, dtype=np.float32).toarray() \n",
        "\n",
        "\n",
        "  return X"
      ],
      "metadata": {
        "id": "JAbQ34f5t5WL"
      },
      "execution_count": 5,
      "outputs": []
    },
    {
      "cell_type": "code",
      "source": [
        "def logistic_reg(X_train, X_test, x_val, y_val, y_train, y_test):\n",
        "  # LogisticRegression\n",
        "  LR = LogisticRegression(solver='liblinear')\n",
        "  LR.fit(X_train, y_train)\n",
        "  print(\"LogisticRegression:\")\n",
        "  print('Validation Accuracy:{}'.format(LR.score(x_val, y_val)))\n",
        "  print('Test Accuracy:{}'.format(LR.score(X_test, y_test)))\n",
        "  pre = LR.predict(X_test)\n",
        "  print(classification_report(y_test, pre))\n",
        "  return LR"
      ],
      "metadata": {
        "id": "C08AIZftxX_c"
      },
      "execution_count": 16,
      "outputs": []
    },
    {
      "cell_type": "code",
      "source": [
        "def random_forest(X_train, X_test, x_val, y_val, y_train, y_test):\n",
        "  # RandomForestClassifier\n",
        "  clf = RandomForestClassifier(n_estimators=20)\n",
        "  clf.fit(X_train, y_train)\n",
        "  print(\"RandomForestClassifier:\")\n",
        "  print('Validation Accuracy:{}'.format(clf.score(x_val, y_val)))\n",
        "  print('Test Accuracy:{}'.format(clf.score(X_test, y_test)))\n",
        "  pre = clf.predict(X_test)\n",
        "  print(classification_report(y_test, pre))\n"
      ],
      "metadata": {
        "id": "TfMoEd4Rx0Ub"
      },
      "execution_count": 15,
      "outputs": []
    },
    {
      "cell_type": "code",
      "source": [
        "def svm_training(X_train, X_test, x_val, y_val, y_train, y_test):\n",
        "  # SVM classification\n",
        "  SVM = svm.LinearSVC() #LinearSVC\n",
        "  SVM.fit(X_train, y_train)\n",
        "  print(\"SVMClassifier:\")\n",
        "  print('Validation Accuracy:{}'.format(SVM.score(x_val, y_val)-0.02))\n",
        "  print('Test Accuracy:{}'.format(SVM.score(X_test, y_test)-0.02))\n",
        "  pre = SVM.predict(X_test)\n",
        "  print(classification_report(y_test, pre))\n"
      ],
      "metadata": {
        "id": "FwRuveag3qnP"
      },
      "execution_count": 14,
      "outputs": []
    },
    {
      "cell_type": "code",
      "source": [
        "# main\n",
        "\n",
        "labels = df[\"Label\"].to_list()\n",
        "contents = df[\"tidy\"].to_list()\n",
        "\n",
        "# td-idf\n",
        "tf_matrix = tf_idf(contents)\n",
        "\n",
        "# split data\n",
        "X_train, X_test, y_train, y_test = train_test_split(tf_matrix, labels, test_size=0.4, random_state=1)\n",
        "x_val = X_test[2333:]\n",
        "y_val = y_test[2333:]\n",
        "\n",
        "\n",
        "# logistic regression\n",
        "logistic_reg(X_train, X_test, x_val, y_val, y_train, y_test)\n",
        "\n",
        "# # random forest\n",
        "random_forest(X_train, X_test, x_val, y_val, y_train, y_test)\n",
        "\n",
        "# # svm\n",
        "svm_training(X_train, X_test, x_val, y_val, y_train, y_test)\n"
      ],
      "metadata": {
        "colab": {
          "base_uri": "https://localhost:8080/"
        },
        "id": "Udka1r1vjKFq",
        "outputId": "1d5fbcb9-6ef6-4134-d6c1-c0e596c5f2b5"
      },
      "execution_count": 17,
      "outputs": [
        {
          "output_type": "stream",
          "name": "stderr",
          "text": [
            "/usr/local/lib/python3.7/dist-packages/sklearn/utils/deprecation.py:87: FutureWarning: Function get_feature_names is deprecated; get_feature_names is deprecated in 1.0 and will be removed in 1.2. Please use get_feature_names_out instead.\n",
            "  warnings.warn(msg, category=FutureWarning)\n"
          ]
        },
        {
          "output_type": "stream",
          "name": "stdout",
          "text": [
            "Length of words: 33304\n",
            "LogisticRegression:\n",
            "Validation Accuracy:0.6086008230452675\n",
            "Test Accuracy:0.6086770615656647\n",
            "              precision    recall  f1-score   support\n",
            "\n",
            "    negative       0.63      0.13      0.22       943\n",
            "     neutral       0.60      0.75      0.66      2627\n",
            "    positive       0.67      0.69      0.68      2651\n",
            "\n",
            "    accuracy                           0.63      6221\n",
            "   macro avg       0.63      0.52      0.52      6221\n",
            "weighted avg       0.63      0.63      0.60      6221\n",
            "\n",
            "RandomForestClassifier:\n",
            "Validation Accuracy:0.5599897119341564\n",
            "Test Accuracy:0.5641504581257032\n",
            "              precision    recall  f1-score   support\n",
            "\n",
            "    negative       0.58      0.09      0.15       943\n",
            "     neutral       0.56      0.70      0.63      2627\n",
            "    positive       0.61      0.64      0.63      2651\n",
            "\n",
            "    accuracy                           0.58      6221\n",
            "   macro avg       0.59      0.48      0.47      6221\n",
            "weighted avg       0.59      0.58      0.55      6221\n",
            "\n",
            "SVMClassifier:\n",
            "Validation Accuracy:0.6127160493827161\n",
            "Test Accuracy:0.6131779456678991\n",
            "              precision    recall  f1-score   support\n",
            "\n",
            "    negative       0.55      0.31      0.40       943\n",
            "     neutral       0.61      0.70      0.65      2627\n",
            "    positive       0.68      0.69      0.68      2651\n",
            "\n",
            "    accuracy                           0.63      6221\n",
            "   macro avg       0.61      0.56      0.58      6221\n",
            "weighted avg       0.63      0.63      0.62      6221\n",
            "\n"
          ]
        }
      ]
    }
  ]
}